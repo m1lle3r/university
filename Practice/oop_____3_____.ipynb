{
  "nbformat": 4,
  "nbformat_minor": 0,
  "metadata": {
    "colab": {
      "provenance": [],
      "include_colab_link": true
    },
    "kernelspec": {
      "name": "python3",
      "display_name": "Python 3"
    },
    "language_info": {
      "name": "python"
    }
  },
  "cells": [
    {
      "cell_type": "markdown",
      "metadata": {
        "id": "view-in-github",
        "colab_type": "text"
      },
      "source": [
        "<a href=\"https://colab.research.google.com/github/m1lle3r/university/blob/main/Practice/oop_____3_____.ipynb\" target=\"_parent\"><img src=\"https://colab.research.google.com/assets/colab-badge.svg\" alt=\"Open In Colab\"/></a>"
      ]
    },
    {
      "cell_type": "markdown",
      "source": [
        "# **Практическая работа №3. Введение в ООП**\n",
        "\n",
        "\n"
      ],
      "metadata": {
        "id": "s-EuQCpnWXCn"
      }
    },
    {
      "cell_type": "markdown",
      "source": [
        "## **Задание №1. Создайте класс Sphere для представления сферы в трехмерном пространстве**\n"
      ],
      "metadata": {
        "id": "TQ5SpdjdbD4D"
      }
    },
    {
      "cell_type": "markdown",
      "source": [
        "Обеспечьте следующие методы класса:\n",
        "\n",
        "1. Конструктор, принимающий 4 действительных числа: радиус, и 3 координаты центра шара. Если конструктор вызывается без аргументов, создать объект сферы с единичным радиусом и центром в начале координат. Если конструктор вызывается с аргументом, создать объект сферы с соответствующим радиусом и центром в начале координат.\n",
        "\n",
        "2. Метод get_volume (), который возвращает действительное число — объем шара, ограниченной текущей сферой.\n",
        "\n",
        "3. Метод get_square (), который возвращает действительное число — площадь внешней поверхности сферы.\n",
        "\n",
        "4. Метод get_radius (), который возвращает действительное число — радиус сферы.\n",
        "\n",
        "5. Метод get_center (), который возвращает тьюпл с 3 действительными числами — координатами центра сферы в том же порядке, в каком они задаются в конструкторе.\n",
        "\n",
        "6. Метод set_radius (r), который принимает 1 аргумент — действительное число, и меняет радиус текущей сферы, ничего не возвращая.\n",
        "\n",
        "7. Метод set_center (x, y, z), который принимает 3 аргумента — действительных числа, и меняет координаты центра сферы, ничего не возвращая. Координаты задаются в том же порядке, что и в конструкторе.\n",
        "\n",
        "8. Метод is_point_inside (x, y, z), который принимает 3 аргумента — действительных числа — координаты некоторой точки в пространстве (в том же порядке, что и в конструкторе), и возвращает логическое значение True или False в зависимости от того, находится эта точка внутри сферы."
      ],
      "metadata": {
        "id": "Q5Ow51wfASZH"
      }
    },
    {
      "cell_type": "code",
      "source": [
        "from math import *\n",
        "\n",
        "class Sphere:\n",
        "    def __init__(self, *args):\n",
        "        if len(args) == 0:\n",
        "            args = (1, 0, 0, 0)  # По умолчанию радиус = 1, центр (0, 0, 0)\n",
        "        elif len(args) == 1:\n",
        "            args = (args[0], 0, 0, 0)  # Если передан только радиус, центр по умолчанию (0, 0, 0)\n",
        "        elif len(args) == 4:\n",
        "            pass  # Оставить как есть, если переданы все 4 аргумента\n",
        "        else:\n",
        "            raise TypeError(\"Неверное количество аргументов\")  # Сообщение об ошибке\n",
        "\n",
        "        self.radius, self.center_x, self.center_y, self.center_z = args\n",
        "\n",
        "    def get_volume(self):\n",
        "        return (self.radius ** 3) * pi * 4 / 3\n",
        "\n",
        "    def get_square(self):\n",
        "        return (self.radius ** 2) * pi * 4\n",
        "\n",
        "    def get_radius(self):\n",
        "        return self.radius\n",
        "\n",
        "    def get_center(self):\n",
        "        return (self.center_x, self.center_y, self.center_z)\n",
        "\n",
        "    def set_radius(self, r):\n",
        "        self.radius = r\n",
        "\n",
        "    def set_center(self, x, y, z):\n",
        "        self.center_x = x\n",
        "        self.center_y = y\n",
        "        self.center_z = z\n",
        "\n",
        "    def is_point_inside(self, x, y, z):\n",
        "        return (self.center_x - x) ** 2 + (self.center_y - y) ** 2 + (self.center_z - z) ** 2 < self.radius ** 2\n",
        "\n",
        "# Тесты\n",
        "\n",
        "s0 = Sphere(0.5) # test sphere creation with radius and default center\n",
        "print(s0.get_center()) # (0.0, 0.0, 0.0)\n",
        "print(s0.get_volume()) # 0.523598775598\n",
        "print(s0.is_point_inside(0 , -1.5, 0)) # False\n",
        "s0.set_radius(1.6)\n",
        "print(s0.is_point_inside(0, -1.5, 0)) # True\n",
        "print(s0.get_radius()) # 1.6"
      ],
      "metadata": {
        "id": "d-vd-AYRdBId",
        "colab": {
          "base_uri": "https://localhost:8080/"
        },
        "outputId": "a8023de5-5c37-4934-b943-91c1a50cea15"
      },
      "execution_count": null,
      "outputs": [
        {
          "output_type": "stream",
          "name": "stdout",
          "text": [
            "(0, 0, 0)\n",
            "0.5235987755982988\n",
            "False\n",
            "True\n",
            "1.6\n"
          ]
        }
      ]
    },
    {
      "cell_type": "markdown",
      "source": [
        "## **Задание №2. Создайте класс SuperStr, который наследует стандартный класс str и содержит 2 новых метода:**"
      ],
      "metadata": {
        "id": "UuJ9K_zAcaY_"
      }
    },
    {
      "cell_type": "markdown",
      "source": [
        "1. Метод is_repeatance (s), который принимает 1 аргумент s и возвращает True или False в зависимости от того, может ли текущая строку быть получена целым количеством повторов строки s. Вернуть False, если s не является строкой. Считать, что пустая строка не содержит повторов.\n",
        "\n",
        "2. Метод is_palindrom (), который возвращает True или False в зависимости от того, является ли строка [палиндромом](https://ru.wikipedia.org/wiki/Палиндром). Регистрами символов пренебрегать. Пустую строку считать палиндромом."
      ],
      "metadata": {
        "id": "GX99X81VchPW"
      }
    },
    {
      "cell_type": "code",
      "source": [
        "class SuperStr:\n",
        "    def __init__(self, initial_value: str):\n",
        "        self.initial_value = initial_value\n",
        "\n",
        "    def is_repeatance(self, check_value) -> bool:\n",
        "        if not isinstance(check_value, str):\n",
        "            return False\n",
        "        return self.initial_value == check_value * (len(self.initial_value) // len(check_value))\n",
        "\n",
        "    def is_palindrom(self) -> bool:\n",
        "        return self.initial_value == self.initial_value[::-1]\n",
        "\n",
        "    def __str__(self):\n",
        "        return self.initial_value\n",
        "\n",
        "    def __int__(self):\n",
        "        return int(self.initial_value)\n",
        "\n",
        "    def __add__(self, other):\n",
        "        return self.initial_value + str(other)\n"
      ],
      "metadata": {
        "id": "LtIAKDWFdEcr"
      },
      "execution_count": null,
      "outputs": []
    },
    {
      "cell_type": "code",
      "source": [
        "# Тесты\n",
        "\n",
        "s = SuperStr(\"123123123123\")\n",
        "print(s.is_repeatance(\"123\")) # True\n",
        "print(s.is_repeatance(\"123123\")) # True\n",
        "print(s.is_repeatance(\"123123123123\")) # True\n",
        "print(s.is_repeatance(\"12312\")) # False\n",
        "print(s.is_repeatance(123)) # False\n",
        "print(s.is_palindrom()) # False\n",
        "print(s) # 123123123123 (строка)\n",
        "print(int(s)) # 123123123123 (целое число)\n",
        "print(s + \"qwe\") # 123123123123qwe\n",
        "p = SuperStr(\"123_321\")\n",
        "print(p.is_palindrom()) # True"
      ],
      "metadata": {
        "id": "oRO3alwicoNp",
        "colab": {
          "base_uri": "https://localhost:8080/"
        },
        "outputId": "77faa9d3-5479-4a8f-e361-11777a8d0212"
      },
      "execution_count": null,
      "outputs": [
        {
          "output_type": "stream",
          "name": "stdout",
          "text": [
            "True\n",
            "True\n",
            "True\n",
            "False\n",
            "False\n",
            "False\n",
            "123123123123\n",
            "123123123123\n",
            "123123123123qwe\n",
            "True\n"
          ]
        }
      ]
    },
    {
      "cell_type": "markdown",
      "source": [
        "## **Задание №3. В коде ниже представлен класс преподавателей и класс студентов (вы можете взять этот код за основу или написать свой).**"
      ],
      "metadata": {
        "id": "m9EGwLY9jZbw"
      }
    },
    {
      "cell_type": "code",
      "source": [
        "class Student:\n",
        "    def __init__(self, name, surname, gender):\n",
        "        self.name = name\n",
        "        self.surname = surname\n",
        "        self.gender = gender\n",
        "        self.finished_courses = []\n",
        "        self.courses_in_progress = []\n",
        "        self.grades = {}\n",
        "\n",
        "    def add_courses(self, course_name):\n",
        "        self.finished_courses.append(course_name)\n",
        "\n",
        "\n",
        "class Mentor:\n",
        "    def __init__(self, name, surname):\n",
        "        self.name = name\n",
        "        self.surname = surname\n",
        "        self.courses_attached = []\n",
        "\n",
        "    def rate_hw(self, student, course, grade):\n",
        "        student.grades[course] = [grade]"
      ],
      "metadata": {
        "id": "PlqK9m7KrT6e"
      },
      "execution_count": null,
      "outputs": []
    },
    {
      "cell_type": "code",
      "source": [
        "best_student = Student('Ruoy', 'Eman', 'your_gender')\n",
        "cool_mentor = Mentor('Some', 'Buddy')\n",
        "cool_mentor.rate_hw(best_student, 'Python', 10)\n",
        "\n",
        "print(\"Имя студента: \", best_student.name)\n",
        "print(\"Имя преподавателя: \", cool_mentor.name)\n",
        "print(\"Оценки студента по курсам: \", best_student.grades)"
      ],
      "metadata": {
        "colab": {
          "base_uri": "https://localhost:8080/"
        },
        "id": "oNc1-dVaw3ee",
        "outputId": "7621e159-5ac4-48a7-8318-886013ba7692"
      },
      "execution_count": null,
      "outputs": [
        {
          "output_type": "stream",
          "name": "stdout",
          "text": [
            "Имя студента:  Ruoy\n",
            "Имя преподавателя:  Some\n",
            "Оценки студента по курсам:  {'Python': [10]}\n"
          ]
        }
      ]
    },
    {
      "cell_type": "markdown",
      "source": [
        "### **3.1. Наследование**"
      ],
      "metadata": {
        "id": "08FkYxULrxE-"
      }
    },
    {
      "cell_type": "markdown",
      "source": [
        "* Класс Mentor должен стать родительским классом для преподавателей. От него нужно реализовать наследование классов Lecturer (лекторы) и Reviewer (эксперты, проверяющие домашние задания).\n",
        "\n",
        "> Имя, фамилю и список закрепленных курсов логично реализовать на уровне родительского класса."
      ],
      "metadata": {
        "id": "YNjsCv5ItOii"
      }
    },
    {
      "cell_type": "code",
      "source": [
        "# Ваш код\n",
        "\n",
        "class Student:\n",
        "    def __init__(self, name, surname, gender):\n",
        "        self.name = name\n",
        "        self.surname = surname\n",
        "        self.gender = gender\n",
        "        self.finished_courses = []\n",
        "        self.courses_in_progress = []\n",
        "        self.grades = {}\n",
        "\n",
        "    def add_courses(self, course_name):\n",
        "        self.finished_courses.append(course_name)\n",
        "\n",
        "\n",
        "class Mentor:\n",
        "    def __init__(self, name, surname):\n",
        "        self.name = name\n",
        "        self.surname = surname\n",
        "        self.courses_attached = []\n",
        "\n",
        "    def rate_hw(self, student, course, grade):\n",
        "        student.grades[course] = [grade]\n",
        "\n",
        "\n",
        "class Lecturer(Mentor):\n",
        "    pass\n",
        "\n",
        "\n",
        "class Reviewer(Mentor):\n",
        "    pass\n",
        "\n",
        "best_student = Student('Ruoy', 'Eman', 'your_gender')\n",
        "cool_mentor = Mentor('Some', 'Buddy')\n",
        "cool_mentor.rate_hw(best_student, 'Python', 10)\n",
        "\n",
        "print(\"Имя студента: \", best_student.name)\n",
        "print(\"Имя преподавателя: \", cool_mentor.name)\n",
        "print(\"Оценки студента по курсам: \", best_student.grades)"
      ],
      "metadata": {
        "id": "1quZPRZKtIoc",
        "colab": {
          "base_uri": "https://localhost:8080/"
        },
        "outputId": "6859d3fd-fb64-486e-89d9-eb897d3918f1"
      },
      "execution_count": 1,
      "outputs": [
        {
          "output_type": "stream",
          "name": "stdout",
          "text": [
            "Имя студента:  Ruoy\n",
            "Имя преподавателя:  Some\n",
            "Оценки студента по курсам:  {'Python': [10]}\n"
          ]
        }
      ]
    },
    {
      "cell_type": "markdown",
      "source": [
        "### **3.2. Атрибуты и взаимодействие классов**"
      ],
      "metadata": {
        "id": "oL8kB-uUtH5K"
      }
    },
    {
      "cell_type": "markdown",
      "source": [
        "* Реализуйте возможность проставления оценок студентам только Reviewer-ам (реализуйте такой метод).\n",
        "\n",
        "* Реализуйте метод выставления оценок лекторам у класса Student (оценки по 10-балльной шкале, хранятся в атрибуте-словаре у Lecturer, в котором ключи – названия курсов, а значения – списки оценок). Лектор при этом должен быть закреплен за тем курсом, на который записан студент (реализовать проверку)."
      ],
      "metadata": {
        "id": "ddcuJFCksWsY"
      }
    },
    {
      "cell_type": "code",
      "source": [
        "class Course:\n",
        "    def __init__(self, lecturer: Lecturer, course_code: str):\n",
        "        self.lecturer = lecturer\n",
        "        self.course_code = course_code\n",
        "        self.student_list = []\n",
        "        self.finished = False\n",
        "        self.lecturer.courses_attached.append(self.course_code)\n",
        "\n",
        "    def code(self) -> str:\n",
        "        return self.course_code\n",
        "\n",
        "    def instructor(self) -> Lecturer:\n",
        "        return self.lecturer\n",
        "\n",
        "    def is_course_finished(self) -> bool:\n",
        "        return self.finished\n",
        "\n",
        "    def finish_course(self):\n",
        "        self.finished = True\n",
        "\n",
        "    def list_students(self) -> list:\n",
        "        return self.student_list\n",
        "\n",
        "    def add_student(self, student: Student):\n",
        "        if student not in self.student_list:\n",
        "            self.student_list.append(student)\n",
        "\n",
        "class Student:\n",
        "    def __init__(self, name: str, surname: str, gender: str):\n",
        "        self.name = name\n",
        "        self.surname = surname\n",
        "        self.gender = gender\n",
        "        self.courses = []\n",
        "        self.grades = dict()\n",
        "\n",
        "    def add_courses(self, course: Course):\n",
        "        course.add_student(self)\n",
        "        self.courses.append(course)\n",
        "\n",
        "    def get_grades(self, course: Course) -> list:\n",
        "        return self.grades.get(course.code(), [])\n",
        "\n",
        "    def get_courses(self) -> list:\n",
        "        return self.courses\n",
        "\n",
        "    def get_name(self) -> str:\n",
        "        return self.name\n",
        "\n",
        "    def get_surname(self) -> str:\n",
        "        return self.surname\n",
        "\n",
        "    def add_grade(self, course: Course, grade: float):\n",
        "        current_grades = list(self.grades.get(course.code(), []))\n",
        "        current_grades.append(grade)\n",
        "        self.grades[course.code()] = current_grades\n",
        "\n",
        "    def set_grade_lecturer(self, pinned_course: Course, grade: int):\n",
        "        if self not in pinned_course.list_students():\n",
        "            print(\"Вы не можете оценивать этого преподавателя, т.к вас нет на курсе\")\n",
        "            return\n",
        "\n",
        "        pinned_course.instructor().set_grade_student(self, pinned_course, grade)\n",
        "\n",
        "class Mentor:\n",
        "    def __init__(self, name, surname):\n",
        "        self.name = name\n",
        "        self.surname = surname\n",
        "        self.courses_attached = []\n",
        "        self.grades = dict()\n",
        "\n",
        "class Lecturer(Mentor):\n",
        "    def __init__(self, name: str, surname: str):\n",
        "        super().__init__(name, surname)\n",
        "\n",
        "    def set_grade_student(self, student: Student, course: Course, grade: int = 1):\n",
        "        student.add_grade(course, grade)\n",
        "\n",
        "    def set_grade(self, course: Course, grade: float):\n",
        "        current_grades = list(self.grades.get(course.code(), []))\n",
        "        current_grades.append(grade)\n",
        "        self.grades[course.code()] = current_grades\n",
        "\n",
        "    def get_grades(self, course: Course) -> list:\n",
        "        return self.grades.get(course.code(), [])\n",
        "\n",
        "class Reviewer(Mentor):\n",
        "    def __str__(self):\n",
        "        return f'Имя: {self.name}\\nФамилия: {self.surname}'\n",
        "\n",
        "    def set_grades(self, student: Student, course: str, grade: int = 1):\n",
        "        student.grades[course] = grade\n",
        "\n",
        "python_course = Course(Lecturer('Андрей', 'Владимирович'), 'PythonForEGE2025')\n",
        "java_course = Course(Lecturer('Джава', 'Мейкер'), 'JavaForBackend')\n",
        "web_course = Course(Lecturer('Светлана', 'Ивановна'), 'WebDevelopment')\n",
        "\n",
        "Billy = Student('Billy', 'Iop', 'Male')\n",
        "Jeny = Student('Jeny', 'Lopi', 'Female')\n",
        "Stas = Student('Stas', 'Kop', 'Male')\n",
        "Alice = Student('Alice', 'Smith', 'Female')\n",
        "Bob = Student('Bob', 'Brown', 'Male')\n",
        "\n",
        "Billy.add_courses(python_course)\n",
        "Jeny.add_courses(python_course)\n",
        "Stas.add_courses(java_course)\n",
        "Alice.add_courses(web_course)\n",
        "Bob.add_courses(java_course)\n",
        "\n",
        "print(\"Студенты на курсе Python:\")\n",
        "print([(student.get_name(), student.get_surname()) for student in python_course.list_students()])\n",
        "\n",
        "print(\"Студенты на курсе Java:\")\n",
        "print([(student.get_name(), student.get_surname()) for student in java_course.list_students()])"
      ],
      "metadata": {
        "id": "U30yyvuirv6H",
        "colab": {
          "base_uri": "https://localhost:8080/"
        },
        "outputId": "5aa6d79f-571b-4982-f01a-4a5991ecaac2"
      },
      "execution_count": null,
      "outputs": [
        {
          "output_type": "stream",
          "name": "stdout",
          "text": [
            "Студенты на курсе Python:\n",
            "[('Billy', 'Iop'), ('Jeny', 'Lopi')]\n",
            "Студенты на курсе Java:\n",
            "[('Stas', 'Kop'), ('Bob', 'Brown')]\n"
          ]
        }
      ]
    },
    {
      "cell_type": "markdown",
      "source": [
        "### **3.3. Полиморфизм и магические методы**"
      ],
      "metadata": {
        "id": "i6PrwEBSu39u"
      }
    },
    {
      "cell_type": "markdown",
      "source": [
        "Перегрузите магический метод \\_\\_str__ у всех классов.\n",
        "У проверяющих он должен выводить информацию в следующем виде:\n",
        "\n",
        "\n",
        "\n",
        "```\n",
        "print(some_reviewer)\n",
        "Имя: Some\n",
        "Фамилия: Buddy\n",
        "```\n",
        "\n",
        "У лекторов:\n",
        "\n",
        "\n",
        "\n",
        "```\n",
        "print(some_lecturer)\n",
        "Имя: Some\n",
        "Фамилия: Buddy\n",
        "Средняя оценка за лекции: 9.9\n",
        "```\n",
        "\n",
        "А у студентов так:\n",
        "\n",
        "\n",
        "\n",
        "```\n",
        "print(some_student)\n",
        "Имя: Ruoy\n",
        "Фамилия: Eman\n",
        "Средняя оценка за домашние задания: 9.9\n",
        "Курсы в процессе изучения: Python, Git\n",
        "Завершенные курсы: Введение в программирование\n",
        "```\n",
        "\n",
        "\n",
        "\n"
      ],
      "metadata": {
        "id": "GvmtjlnmvF8b"
      }
    },
    {
      "cell_type": "code",
      "source": [
        "# Ваш код\n",
        "class Course:\n",
        "    def __init__(self, lecturer: Lecturer, course_code: str):\n",
        "        self.lecturer = lecturer\n",
        "        self.course_code = course_code\n",
        "        self.student_list = []\n",
        "        self.finished = False\n",
        "        self.lecturer.courses_attached.append(self.course_code)\n",
        "\n",
        "    def code(self) -> str:\n",
        "        return self.course_code\n",
        "\n",
        "    def instructor(self) -> Lecturer:\n",
        "        return self.lecturer\n",
        "\n",
        "    def is_course_finished(self) -> bool:\n",
        "        return self.finished\n",
        "\n",
        "    def finish_course(self):\n",
        "        self.finished = True\n",
        "\n",
        "    def list_students(self) -> list:\n",
        "        return self.student_list\n",
        "\n",
        "    def add_student(self, student: Student):\n",
        "        if student not in self.student_list:\n",
        "            self.student_list.append(student)\n",
        "\n",
        "    def __str__(self):\n",
        "        return f\"Курс: {self.course_code}, Преподаватель: {self.lecturer.get_name()} {self.lecturer.get_surname()}\"\n",
        "\n",
        "class Student:\n",
        "    def __init__(self, name: str, surname: str, gender: str):\n",
        "        self.name = name\n",
        "        self.surname = surname\n",
        "        self.gender = gender\n",
        "        self.courses = []\n",
        "        self.grades = dict()\n",
        "\n",
        "    def add_courses(self, course: Course):\n",
        "        course.add_student(self)\n",
        "        self.courses.append(course)\n",
        "\n",
        "    def get_grades(self, course: Course) -> list:\n",
        "        return self.grades.get(course.code(), [])\n",
        "\n",
        "    def get_courses(self) -> list:\n",
        "        return self.courses\n",
        "\n",
        "    def get_name(self) -> str:\n",
        "        return self.name\n",
        "\n",
        "    def get_surname(self) -> str:\n",
        "        return self.surname\n",
        "\n",
        "    def add_grade(self, course: Course, grade: float):\n",
        "        current_grades = list(self.grades.get(course.code(), []))\n",
        "        current_grades.append(grade)\n",
        "        self.grades[course.code()] = current_grades\n",
        "\n",
        "    def set_grade_lecturer(self, pinned_course: Course, grade: int):\n",
        "        if self not in pinned_course.list_students():\n",
        "            print(\"Вы не можете оценивать этого преподавателя, т.к вас нет на курсе\")\n",
        "            return\n",
        "\n",
        "        pinned_course.instructor().set_grade_student(self, pinned_course, grade)\n",
        "\n",
        "    def __str__(self):\n",
        "        avg_grade = self.get_average_grade()\n",
        "        courses_in_progress = \", \".join(course.code() for course in self.courses if not course.is_course_finished())\n",
        "        finished_courses = \", \".join(course.code() for course in self.courses if course.is_course_finished())\n",
        "        return (f\"Имя: {self.name}\\n\"\n",
        "                f\"Фамилия: {self.surname}\\n\"\n",
        "                f\"Средняя оценка за домашние задания: {avg_grade:.1f}\\n\"\n",
        "                f\"Курсы в процессе изучения: {courses_in_progress}\\n\"\n",
        "                f\"Завершенные курсы: {finished_courses}\")\n",
        "\n",
        "    def get_average_grade(self) -> float:\n",
        "        all_grades = [grade for grades in self.grades.values() for grade in grades]\n",
        "        return sum(all_grades) / len(all_grades) if all_grades else 0\n",
        "\n",
        "class Mentor:\n",
        "    def __init__(self, name, surname):\n",
        "        self.name = name\n",
        "        self.surname = surname\n",
        "        self.courses_attached = []\n",
        "        self.grades = dict()\n",
        "\n",
        "    def get_name(self) -> str:\n",
        "        return self.name\n",
        "\n",
        "    def get_surname(self) -> str:\n",
        "        return self.surname\n",
        "\n",
        "class Lecturer(Mentor):\n",
        "    def __init__(self, name: str, surname: str):\n",
        "        super().__init__(name, surname)\n",
        "\n",
        "    def set_grade_student(self, student: Student, course: Course, grade: int = 1):\n",
        "        student.add_grade(course, grade)\n",
        "\n",
        "    def set_grade(self, course: Course, grade: float):\n",
        "        current_grades = list(self.grades.get(course.code(), []))\n",
        "        current_grades.append(grade)\n",
        "        self.grades[course.code()] = current_grades\n",
        "\n",
        "    def get_grades(self, course: Course) -> list:\n",
        "        return self.grades.get(course.code(), [])\n",
        "\n",
        "    def get_average_grade(self) -> float:\n",
        "        all_grades = [grade for grades in self.grades.values() for grade in grades]\n",
        "        return sum(all_grades) / len(all_grades) if all_grades else 0\n",
        "\n",
        "    def __str__(self):\n",
        "        avg_grade = self.get_average_grade()\n",
        "        return (f\"Имя: {self.name}\\n\"\n",
        "                f\"Фамилия: {self.surname}\\n\"\n",
        "                f\"Средняя оценка за лекции: {avg_grade:.1f}\")\n",
        "\n",
        "class Reviewer(Mentor):\n",
        "    def __str__(self):\n",
        "        return f\"Имя: {self.name}\\nФамилия: {self.surname}\"\n",
        "\n",
        "    def set_grades(self, student: Student, course: str, grade: int = 1):\n",
        "        student.grades[course] = grade\n",
        "\n"
      ],
      "metadata": {
        "id": "gCJAL_EmwU0b"
      },
      "execution_count": null,
      "outputs": []
    },
    {
      "cell_type": "markdown",
      "source": [
        "**Реализуйте перегрузку других магических методов на Ваш выбор (не менее трёх), руководствуясь по смыслу контекстом представленных классов (студенты, преподаватели, оценки и т.д.)**"
      ],
      "metadata": {
        "id": "1DNE4TE3vfYI"
      }
    },
    {
      "cell_type": "code",
      "source": [
        "class Student:\n",
        "    def __init__(self, name, grades):\n",
        "        self.name = name\n",
        "        self.grades = grades\n",
        "\n",
        "    def __str__(self):\n",
        "        return f\"Студент: {self.name} Оценки: {' '.join(map(str, self.grades))}\"\n",
        "\n",
        "    def __eq__(self, other):\n",
        "        return sum(self.grades) == sum(other.grades)\n",
        "\n",
        "    def __lt__(self, other):\n",
        "        return sum(self.grades) < sum(other.grades)\n",
        "\n",
        "class Lecturer:\n",
        "    def __init__(self, name, subject):\n",
        "        self.name = name\n",
        "        self.subject = subject\n",
        "\n",
        "    def __str__(self):\n",
        "        return f\"Преподаватель: {self.name} Предмет: {self.subject}\"\n",
        "\n",
        "class Course:\n",
        "    def __init__(self, lecturer):\n",
        "        self.lecturer = lecturer\n",
        "\n",
        "    def get_lecturer(self):\n",
        "        return self.lecturer\n",
        "\n",
        "python_course = Course(Lecturer(\"Иванов И.И.\", \"Python\"))\n",
        "java_course = Course(Lecturer(\"Петров П.П.\", \"Java\"))\n",
        "\n",
        "student1 = Student(\"Алексей\", [5, 4, 5])\n",
        "student2 = Student(\"Мария\", [4, 4, 4])\n",
        "\n",
        "print(student1)\n",
        "print(student2)\n",
        "\n",
        "if student1 == student2:\n",
        "    print(\"Студенты имеют одинаковые оценки.\")\n",
        "else:\n",
        "    print(\"Студенты имеют разные оценки.\")\n",
        "\n",
        "if student1 < student2:\n",
        "    print(f\"{student1.name} имеет меньшую сумму оценок чем {student2.name}.\")\n",
        "else:\n",
        "    print(f\"{student1.name} имеет большую или равную сумму оценок чем {student2.name}.\")\n",
        "\n",
        "if python_course.get_lecturer() == java_course.get_lecturer():\n",
        "    print(\"Это наш преподаватель\")\n",
        "else:\n",
        "    print(\"Странный преподаватель\")\n",
        "\n",
        "print(python_course.get_lecturer())"
      ],
      "metadata": {
        "id": "WNCf9PPMu4Gv",
        "colab": {
          "base_uri": "https://localhost:8080/"
        },
        "outputId": "54300c24-8caa-4323-e9a1-cf2f3b0c6d8b"
      },
      "execution_count": null,
      "outputs": [
        {
          "output_type": "stream",
          "name": "stdout",
          "text": [
            "Студент: Алексей Оценки: 5 4 5\n",
            "Студент: Мария Оценки: 4 4 4\n",
            "Студенты имеют разные оценки.\n",
            "Алексей имеет большую или равную сумму оценок чем Мария.\n",
            "Странный преподаватель\n",
            "Преподаватель: Иванов И.И. Предмет: Python\n"
          ]
        }
      ]
    },
    {
      "cell_type": "markdown",
      "source": [
        "### **3.4. Тестирование**\n",
        "\n",
        "Создайте по 2 экземпляра каждого класса, вызовите все созданные методы, а также реализуйте две функции:\n",
        "\n",
        "* для подсчета средней оценки за домашние задания по всем студентам в рамках конкретного курса (в качестве аргументов принимаем список студентов и название курса);\n",
        "* для подсчета средней оценки за лекции всех лекторов в рамках курса (в качестве аргумента принимаем список лекторов и название курса)."
      ],
      "metadata": {
        "id": "X8xvLNT6u4Nn"
      }
    },
    {
      "cell_type": "code",
      "source": [
        "#Ваш код\n",
        "class Course:\n",
        "    def __init__(self, course_code: str):\n",
        "        self.course_code = course_code\n",
        "        self.student_list = []\n",
        "        self.lecturer_list = []\n",
        "\n",
        "    def add_student(self, student):\n",
        "        self.student_list.append(student)\n",
        "\n",
        "    def add_lecturer(self, lecturer):\n",
        "        self.lecturer_list.append(lecturer)\n",
        "\n",
        "    def __str__(self):\n",
        "        return f\"Курс: {self.course_code}\"\n",
        "\n",
        "class Student:\n",
        "    def __init__(self, name: str, surname: str):\n",
        "        self.name = name\n",
        "        self.surname = surname\n",
        "        self.courses = {}\n",
        "        self.grades = {}\n",
        "\n",
        "    def add_course(self, course: Course):\n",
        "        self.courses[course.course_code] = course\n",
        "        course.add_student(self)\n",
        "\n",
        "    def add_grade(self, course_code: str, grade: float):\n",
        "        if course_code not in self.grades:\n",
        "            self.grades[course_code] = []\n",
        "        self.grades[course_code].append(grade)\n",
        "\n",
        "    def get_average_grade(self) -> float:\n",
        "        all_grades = [grade for grades in self.grades.values() for grade in grades]\n",
        "        return sum(all_grades) / len(all_grades) if all_grades else 0\n",
        "\n",
        "    def __str__(self):\n",
        "        courses_str = \", \".join(self.courses.keys())\n",
        "        return (f\"Имя: {self.name}\\n\"\n",
        "                f\"Фамилия: {self.surname}\\n\"\n",
        "                f\"Курсы: {courses_str}\\n\"\n",
        "                f\"Средняя оценка: {self.get_average_grade():.1f}\")\n",
        "\n",
        "class Lecturer:\n",
        "    def __init__(self, name: str, surname: str):\n",
        "        self.name = name\n",
        "        self.surname = surname\n",
        "        self.courses = {}\n",
        "        self.grades = {}\n",
        "\n",
        "    def add_course(self, course: Course):\n",
        "        self.courses[course.course_code] = course\n",
        "        course.add_lecturer(self)\n",
        "\n",
        "    def add_grade(self, course_code: str, grade: float):\n",
        "        if course_code not in self.grades:\n",
        "            self.grades[course_code] = []\n",
        "        self.grades[course_code].append(grade)\n",
        "\n",
        "    def get_average_grade(self) -> float:\n",
        "        all_grades = [grade for grades in self.grades.values() for grade in grades]\n",
        "        return sum(all_grades) / len(all_grades) if all_grades else 0\n",
        "\n",
        "    def __str__(self):\n",
        "        return (f\"Имя: {self.name}\\n\"\n",
        "                f\"Фамилия: {self.surname}\\n\"\n",
        "                f\"Средняя оценка: {self.get_average_grade():.1f}\")\n",
        "\n",
        "def average_student_grades(students, course_code: str) -> float:\n",
        "    course_grades = [student.get_average_grade() for student in students if course_code in student.grades]\n",
        "    return sum(course_grades) / len(course_grades) if course_grades else 0\n",
        "\n",
        "def average_lecturer_grades(lecturers, course_code: str) -> float:\n",
        "    course_grades = [lecturer.get_average_grade() for lecturer in lecturers if course_code in lecturer.grades]\n",
        "    return sum(course_grades) / len(course_grades) if course_grades else 0\n",
        "\n",
        "python_course = Course(\"Python\")\n",
        "java_course = Course(\"Java\")\n",
        "\n",
        "student1 = Student(\"Alice\", \"Smith\")\n",
        "student2 = Student(\"Bob\", \"Brown\")\n",
        "\n",
        "student1.add_course(python_course)\n",
        "student1.add_grade(\"Python\", 9)\n",
        "student1.add_grade(\"Python\", 8)\n",
        "\n",
        "student2.add_course(python_course)\n",
        "student2.add_grade(\"Python\", 7)\n",
        "student2.add_grade(\"Python\", 9)\n",
        "\n",
        "student2.add_course(java_course)\n",
        "student2.add_grade(\"Java\", 6)\n",
        "\n",
        "lecturer1 = Lecturer(\"Dr. John\", \"Doe\")\n",
        "lecturer2 = Lecturer(\"Prof. Jane\", \"Roe\")\n",
        "\n",
        "lecturer1.add_course(python_course)\n",
        "lecturer1.add_grade(\"Python\", 10)\n",
        "lecturer1.add_grade(\"Python\", 9)\n",
        "\n",
        "lecturer2.add_course(java_course)\n",
        "lecturer2.add_grade(\"Java\", 8)\n",
        "lecturer2.add_grade(\"Java\", 7)\n",
        "\n",
        "print(student1)\n",
        "print(student2)\n",
        "print(lecturer1)\n",
        "print(lecturer2)\n",
        "\n",
        "print(\"Средняя оценка студентов по курсу Python:\", average_student_grades([student1, student2], \"Python\"))\n",
        "print(\"Средняя оценка лекторов по курсу Python:\", average_lecturer_grades([lecturer1, lecturer2], \"Python\"))\n",
        "print(\"Средняя оценка студентов по курсу Java:\", average_student_grades([student1, student2], \"Java\"))\n",
        "print(\"Средняя оценка лекторов по курсу Java:\", average_lecturer_grades([lecturer1, lecturer2], \"Java\"))"
      ],
      "metadata": {
        "id": "uh8n08fdu4V_",
        "colab": {
          "base_uri": "https://localhost:8080/"
        },
        "outputId": "5216fc8d-86dc-41a5-b9d0-fe5a328bb195"
      },
      "execution_count": null,
      "outputs": [
        {
          "output_type": "stream",
          "name": "stdout",
          "text": [
            "Имя: Alice\n",
            "Фамилия: Smith\n",
            "Курсы: Python\n",
            "Средняя оценка: 8.5\n",
            "Имя: Bob\n",
            "Фамилия: Brown\n",
            "Курсы: Python, Java\n",
            "Средняя оценка: 7.3\n",
            "Имя: Dr. John\n",
            "Фамилия: Doe\n",
            "Средняя оценка: 9.5\n",
            "Имя: Prof. Jane\n",
            "Фамилия: Roe\n",
            "Средняя оценка: 7.5\n",
            "Средняя оценка студентов по курсу Python: 7.916666666666666\n",
            "Средняя оценка лекторов по курсу Python: 9.5\n",
            "Средняя оценка студентов по курсу Java: 7.333333333333333\n",
            "Средняя оценка лекторов по курсу Java: 7.5\n"
          ]
        }
      ]
    },
    {
      "cell_type": "markdown",
      "source": [
        "## **Задание №4. Перегрузка операторов с помощью магических методов**\n"
      ],
      "metadata": {
        "id": "ehfo80anwJUM"
      }
    },
    {
      "cell_type": "markdown",
      "source": [
        "### **Цель задания:**\n",
        "\n"
      ],
      "metadata": {
        "id": "i_KsKg4awZOJ"
      }
    },
    {
      "cell_type": "markdown",
      "source": [
        "Разработать класс `Fraction` для работы с рациональными числами (дробями), реализовав перегрузку стандартных операторов через переопределение соответствующих магических методов. Ваша задача — обеспечить класс `Fraction` функциональностью, демонстрируемой в приведенном примере кода."
      ],
      "metadata": {
        "id": "JvIIB641watq"
      }
    },
    {
      "cell_type": "markdown",
      "source": [
        "### **Описание задания:**\n",
        "\n"
      ],
      "metadata": {
        "id": "BZ9kMLrYwcW_"
      }
    },
    {
      "cell_type": "markdown",
      "source": [
        "Создайте класс `Fraction`, который представляет собой обыкновенную дробь с числителем и знаменателем. Перегрузите основные арифметические операторы для выполнения операций над дробями, а также операторы сравнения. Обеспечьте возможность преобразования дроби в число с плавающей точкой и обратную операцию. Реализуйте обработку исключений при некорректных данных. Предоставьте понятное строковое и официальное представление дроби."
      ],
      "metadata": {
        "id": "6Qt56A-Bwe87"
      }
    },
    {
      "cell_type": "markdown",
      "source": [
        "**Требования к заданию:**\n"
      ],
      "metadata": {
        "id": "1lv3NnB_whqP"
      }
    },
    {
      "cell_type": "markdown",
      "source": [
        "\n",
        "1. **Класс `Fraction` должен:**\n",
        "\n",
        "   - Инициализироваться двумя целыми числами: числителем и знаменателем.\n",
        "   - Обрабатывать ситуацию когда знаменатель равен нулю, а именно выводить сообщение `\"Знаменатель не может быть нулем\"`.\n",
        "   - Упрощать дроби до несократимых при создании и после каждой арифметической операции.\n",
        "\n",
        "2. **Перегрузить следующие операторы путем переопределения магических методов:**\n",
        "\n",
        "   - **Сложение `+`** (`__add__`): сложение двух дробей, возвращает новую дробь.\n",
        "   - **Вычитание `-`** (`__sub__`): вычитание одной дроби из другой, возвращает новую дробь.\n",
        "   - **Умножение `*`** (`__mul__`): умножение двух дробей, возвращает новую дробь.\n",
        "   - **Деление `/`** (`__truediv__`): деление одной дроби на другую, возвращает новую дробь.\n",
        "   - **Равенство `==`** (`__eq__`): проверка равенства двух дробей.\n",
        "   - **Сравнения `>`, `<`, `>=`, `<=`**: сравнение дробей по их значению, реализовать методы `__lt__`, `__le__`, `__gt__`, `__ge__`.\n",
        "\n",
        "3. **Реализовать преобразование типов:**\n",
        "\n",
        "   - **Метод `__float__`**: преобразование дроби в число с плавающей точкой.\n",
        "\n",
        "4. **Дополнительные методы класса:**\n",
        "\n",
        "   - **`reciprocal()`**: возвращает новую дробь, обратную данной (числитель и знаменатель меняются местами).\n",
        "   - **Строковое представление** (`__str__`): возвращает строку вида `\"числитель/знаменатель\"`. Если знаменатель равен 1, возвращает только числитель в виде строки.\n",
        "   - **Официальное представление** (`__repr__`): возвращает строку вида `\"Fraction(числитель, знаменатель)\"`.\n",
        "\n",
        "5. **Обработка исключений:**\n",
        "\n",
        "   - При попытке создать дробь с нулевым знаменателем выводить в консоль сообщение `ValueError`.\n",
        "   - При попытке деления на нулевую дробь, выводить в консоль сообщение `ZeroDivisionError`.\n",
        "\n",
        "6. **Тестирование:**\n",
        "\n",
        "   - Написать код, демонстрирующий работу всех реализованных методов и операторов, используя примеры, приведенные ниже.\n",
        "   - Обеспечить корректную обработку исключений и вывод соответствующих сообщений.\n",
        "\n",
        "\n",
        "\n"
      ],
      "metadata": {
        "id": "4tJX8suPv0TY"
      }
    },
    {
      "cell_type": "code",
      "source": [
        "from math import *\n",
        "\n",
        "class Fraction:\n",
        "    def __init__(self, numerator: int, denominator: int):\n",
        "        if denominator == 0:\n",
        "            raise ValueError(\"Знаменатель не может быть нулем\")\n",
        "        self.numerator = numerator\n",
        "        self.denominator = denominator\n",
        "        self.simplify()\n",
        "\n",
        "    def simplify(self):\n",
        "        common_divisor = gcd(self.numerator, self.denominator)\n",
        "        self.numerator //= common_divisor\n",
        "        self.denominator //= common_divisor\n",
        "        if self.denominator < 0:\n",
        "            self.numerator = -self.numerator\n",
        "            self.denominator = -self.denominator\n",
        "\n",
        "    def __add__(self, other):\n",
        "        if not isinstance(other, Fraction):\n",
        "            return NotImplemented\n",
        "        new_numerator = self.numerator * other.denominator + other.numerator * self.denominator\n",
        "        new_denominator = self.denominator * other.denominator\n",
        "        return Fraction(new_numerator, new_denominator)\n",
        "\n",
        "    def __sub__(self, other):\n",
        "        if not isinstance(other, Fraction):\n",
        "            return NotImplemented\n",
        "        new_numerator = self.numerator * other.denominator - other.numerator * self.denominator\n",
        "        new_denominator = self.denominator * other.denominator\n",
        "        return Fraction(new_numerator, new_denominator)\n",
        "\n",
        "    def __mul__(self, other):\n",
        "        if not isinstance(other, Fraction):\n",
        "            return NotImplemented\n",
        "        new_numerator = self.numerator * other.numerator\n",
        "        new_denominator = self.denominator * other.denominator\n",
        "        return Fraction(new_numerator, new_denominator)\n",
        "\n",
        "    def __truediv__(self, other):\n",
        "        if not isinstance(other, Fraction):\n",
        "            return NotImplemented\n",
        "        if other.numerator == 0:\n",
        "            raise ZeroDivisionError(\"Деление на нулевую дробь\")\n",
        "        new_numerator = self.numerator * other.denominator\n",
        "        new_denominator = self.denominator * other.numerator\n",
        "        return Fraction(new_numerator, new_denominator)\n",
        "\n",
        "    def __eq__(self, other):\n",
        "        if not isinstance(other, Fraction):\n",
        "            return NotImplemented\n",
        "        return self.numerator == other.numerator and self.denominator == other.denominator\n",
        "\n",
        "    def __lt__(self, other):\n",
        "        if not isinstance(other, Fraction):\n",
        "            return NotImplemented\n",
        "        return self.numerator * other.denominator < other.numerator * self.denominator\n",
        "\n",
        "    def __le__(self, other):\n",
        "        if not isinstance(other, Fraction):\n",
        "            return NotImplemented\n",
        "        return self.numerator * other.denominator <= other.numerator * self.denominator\n",
        "\n",
        "    def __gt__(self, other):\n",
        "        if not isinstance(other, Fraction):\n",
        "            return NotImplemented\n",
        "        return self.numerator * other.denominator > other.numerator * self.denominator\n",
        "\n",
        "    def __ge__(self, other):\n",
        "        if not isinstance(other, Fraction):\n",
        "            return NotImplemented\n",
        "        return self.numerator * other.denominator >= other.numerator * self.denominator\n",
        "\n",
        "    def __float__(self):\n",
        "        return self.numerator / self.denominator\n",
        "\n",
        "    def reciprocal(self):\n",
        "        return Fraction(self.denominator, self.numerator)\n",
        "\n",
        "    @classmethod\n",
        "    def from_float(cls, value: float):\n",
        "        denominator = 1\n",
        "        while value != int(value):\n",
        "            value *= 10\n",
        "            denominator *= 10\n",
        "        return cls(int(value), denominator)\n",
        "\n",
        "    def __str__(self):\n",
        "        if self.denominator == 1:\n",
        "            return str(self.numerator)\n",
        "        return f\"{self.numerator}/{self.denominator}\"\n",
        "\n",
        "    def __repr__(self):\n",
        "        return f'Fraction({self.numerator}, {self.denominator})'\n"
      ],
      "metadata": {
        "id": "58JlCtFkxpmU"
      },
      "execution_count": null,
      "outputs": []
    },
    {
      "cell_type": "markdown",
      "source": [
        "**Тесты для класса `Fraction`:**\n"
      ],
      "metadata": {
        "id": "N5tZxFvIxdIy"
      }
    },
    {
      "cell_type": "code",
      "source": [
        "# Создание дробей\n",
        "f1 = Fraction(3, 4)\n",
        "f2 = Fraction(5, 6)\n",
        "\n",
        "# Сложение дробей\n",
        "f3 = f1 + f2\n",
        "print(f3)  # Ожидаемый вывод: 19/12\n",
        "\n",
        "# Вычитание дробей\n",
        "f4 = f1 - f2\n",
        "print(f4)  # Ожидаемый вывод: -1/12\n",
        "\n",
        "# Умножение дробей\n",
        "f5 = f1 * f2\n",
        "print(f5)  # Ожидаемый вывод: 15/24 => 5/8 после упрощения\n",
        "\n",
        "# Деление дробей\n",
        "f6 = f1 / f2\n",
        "print(f6)  # Ожидаемый вывод: 18/20 => 9/10 после упрощения\n",
        "\n",
        "# Проверка равенства\n",
        "print(f1 == Fraction(6, 8))   # Ожидаемый вывод: True\n",
        "\n",
        "# Сравнение дробей\n",
        "print(f1 > f2)    # Ожидаемый вывод: False\n",
        "print(f1 < f2)    # Ожидаемый вывод: True\n",
        "\n",
        "# Преобразование к float\n",
        "print(float(f1))  # Ожидаемый вывод: 0.75\n",
        "\n",
        "# Обратная дробь\n",
        "f7 = f1.reciprocal()\n",
        "print(f7)         # Ожидаемый вывод: 4/3\n",
        "\n",
        "# Создание дроби из float\n",
        "f8 = Fraction.from_float(0.75)\n",
        "print(f8)         # Ожидаемый вывод: 3/4\n",
        "\n",
        "# Проверка обработки исключений\n",
        "try:\n",
        "    f_invalid = Fraction(5, 0)\n",
        "except ValueError as e:\n",
        "    print(e)  # Ожидаемый вывод: Знаменатель не может быть нулем\n",
        "\n",
        "# Строковое и официальное представление\n",
        "print(str(f1))    # Ожидаемый вывод: 3/4\n",
        "print(repr(f1))\n"
      ],
      "metadata": {
        "id": "U1UtgDM0xlqJ",
        "colab": {
          "base_uri": "https://localhost:8080/"
        },
        "outputId": "3948fcf0-bb11-4609-c56a-35787e3f37de"
      },
      "execution_count": null,
      "outputs": [
        {
          "output_type": "stream",
          "name": "stdout",
          "text": [
            "19/12\n",
            "-1/12\n",
            "5/8\n",
            "9/10\n",
            "True\n",
            "False\n",
            "True\n",
            "0.75\n",
            "4/3\n",
            "3/4\n",
            "Знаменатель не может быть нулем\n",
            "3/4\n",
            "Fraction(3, 4)\n"
          ]
        }
      ]
    }
  ]
}