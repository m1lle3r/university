{
  "nbformat": 4,
  "nbformat_minor": 0,
  "metadata": {
    "colab": {
      "provenance": [],
      "authorship_tag": "ABX9TyN10rYg6Xb21iDZFWq8C4GF",
      "include_colab_link": true
    },
    "kernelspec": {
      "name": "python3",
      "display_name": "Python 3"
    },
    "language_info": {
      "name": "python"
    }
  },
  "cells": [
    {
      "cell_type": "markdown",
      "metadata": {
        "id": "view-in-github",
        "colab_type": "text"
      },
      "source": [
        "<a href=\"https://colab.research.google.com/github/m1lle3r/university/blob/main/Extra_Tasks/Untitled0.ipynb\" target=\"_parent\"><img src=\"https://colab.research.google.com/assets/colab-badge.svg\" alt=\"Open In Colab\"/></a>"
      ]
    },
    {
      "cell_type": "code",
      "execution_count": 5,
      "metadata": {
        "colab": {
          "base_uri": "https://localhost:8080/"
        },
        "id": "g0t-pzVPvos2",
        "outputId": "67da8043-1d79-463b-f573-036695db2f28"
      },
      "outputs": [
        {
          "output_type": "stream",
          "name": "stdout",
          "text": [
            "Выберите действие:\n",
            "1. Добавить контакт\n",
            "2. Удалить контакт\n",
            "3. Показать список контактов\n",
            "4. Изменить номер контакта\n",
            "5. Выход\n",
            "Выберите номер функционала:\n",
            "1\n",
            "Введите имя:\n",
            "рустам\n",
            "Введите номер в формате (9xxxxxxxxx)\n",
            "9123123123\n",
            "Контакт Рустам успешно добавлен!\n",
            "Выберите следующее действие:\n",
            "1. Добавить контакт\n",
            "2. Удалить контакт\n",
            "3. Показать список контактов\n",
            "4. Изменить номер контакта\n",
            "5. Выход\n",
            "Выберите номер функционала:\n",
            "3\n",
            "Рустам +79123123123\n",
            "выберите следующее действие:\n",
            "1\n",
            "Введите имя:\n",
            "фыФВл оФЫВыв лФЫВ\n",
            "Введите номер в формате (9xxxxxxxxx)\n",
            "9123321123\n",
            "Контакт Фыфвл Офывыв Лфыв успешно добавлен!\n",
            "Выберите следующее действие:\n",
            "1. Добавить контакт\n",
            "2. Удалить контакт\n",
            "3. Показать список контактов\n",
            "4. Изменить номер контакта\n",
            "5. Выход\n",
            "Выберите номер функционала:\n",
            "3\n",
            "Рустам +79123123123\n",
            "Фыфвл Офывыв Лфыв +79123321123\n",
            "выберите следующее действие:\n",
            "5\n",
            "Программа завершена.\n"
          ]
        }
      ],
      "source": [
        "d = {}\n",
        "print(\"Выберите действие:\")\n",
        "print('1. Добавить контакт\\n2. Удалить контакт\\n3. Показать список контактов\\n4. Изменить номер контакта\\n5. Выход')\n",
        "print(\"Выберите номер функционала:\")\n",
        "i = int(input())\n",
        "f = True\n",
        "while f == True:\n",
        "    if i == 1:\n",
        "        k = []\n",
        "        print(\"Введите имя:\")\n",
        "        s = input()\n",
        "        p = ''\n",
        "        print(\"Введите номер в формате (9xxxxxxxxx):\")\n",
        "        m = input()\n",
        "        for j in (s.split()):\n",
        "            k.append(j[0].upper() + j[1:len(s)].lower())\n",
        "        p = k[0]\n",
        "        for l in range(1, len(k)):\n",
        "            p += ' ' + k[l]\n",
        "        if m.isdigit() and m[0] == '9' and len(m) == 10:\n",
        "            d[p] = '+7' + str(m)\n",
        "            print(f\"Контакт {p} успешно добавлен!\")\n",
        "        else:\n",
        "          print(\"Неправльно набран номер\")\n",
        "        print(\"Выберите следующее действие:\")\n",
        "        print('1. Добавить контакт\\n2. Удалить контакт\\n3. Показать список контактов\\n4. Изменить номер контакта\\n5. Выход')\n",
        "        print(\"Выберите номер функционала:\")\n",
        "        i = int(input())\n",
        "    if i == 2:\n",
        "        k = []\n",
        "        print(\"Введите имя:\")\n",
        "        s = input()\n",
        "        p = ''\n",
        "        for j in (s.split()):\n",
        "            k.append(j[0].upper() + j[1:len(s)].lower())\n",
        "        p = k[0]\n",
        "        for l in range(1, len(k)):\n",
        "            p += ' ' + k[l]\n",
        "        if p in d.keys():\n",
        "            d.pop(p)\n",
        "            print(f\"Контакт {p} успешно удален!\")\n",
        "        else:\n",
        "            print(\"контакт не найден\")\n",
        "        print(\"Выберите следующее действие:\")\n",
        "        print('1. Добавить контакт\\n2. Удалить контакт\\n3. Показать список контактов\\n4. Изменить номер контакта\\n5. Выход')\n",
        "        print(\"Выберите номер функционала:\")\n",
        "        i = int(input())\n",
        "    if i == 3:\n",
        "        m = list(d.keys())\n",
        "\n",
        "        if len(m)>0:\n",
        "            for num in m:\n",
        "                print(num, d[num])\n",
        "        else:\n",
        "            print('нет контактов')\n",
        "\n",
        "        print('выберите следующее действие:')\n",
        "        i = int(input())\n",
        "    if i == 4:\n",
        "        k = []\n",
        "        print('Введите имя:')\n",
        "        s = input()\n",
        "        p = ''\n",
        "        for j in (s.split()):\n",
        "            k.append(j[0].upper() + j[1:len(s)].lower())\n",
        "        p = k[0]\n",
        "        for l in range(1, len(k)):\n",
        "            p += ' ' + k[l]\n",
        "        print(\"Введите новый номер:\")\n",
        "        m = input()\n",
        "        if m.isdigit() and m[0] == '9' and len(m) == 10:\n",
        "            d[p] = '+7' + str(m)\n",
        "        print(f'контакт {p} успешко заменен!')\n",
        "        print(\"Выберите следующее действие:\")\n",
        "        print('1. Добавить контакт\\n2. Удалить контакт\\n3. Показать список контактов\\n4. Изменить номер контакта\\n5. Выход')\n",
        "        print(\"Выберите номер функционала:\")\n",
        "        i = int(input())\n",
        "    if i == 5:\n",
        "        print(\"Программа завершена.\")\n",
        "        f = False"
      ]
    },
    {
      "cell_type": "code",
      "source": [],
      "metadata": {
        "id": "0J2OuH2Vxekt"
      },
      "execution_count": null,
      "outputs": []
    }
  ]
}