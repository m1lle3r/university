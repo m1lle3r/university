{
  "nbformat": 4,
  "nbformat_minor": 0,
  "metadata": {
    "colab": {
      "provenance": [],
      "authorship_tag": "ABX9TyOStNTmo0803Uc0KD+vS5Zv",
      "include_colab_link": true
    },
    "kernelspec": {
      "name": "python3",
      "display_name": "Python 3"
    },
    "language_info": {
      "name": "python"
    }
  },
  "cells": [
    {
      "cell_type": "markdown",
      "metadata": {
        "id": "view-in-github",
        "colab_type": "text"
      },
      "source": [
        "<a href=\"https://colab.research.google.com/github/m1lle3r/university/blob/main/Extra_Tasks/Ex_Task2.ipynb\" target=\"_parent\"><img src=\"https://colab.research.google.com/assets/colab-badge.svg\" alt=\"Open In Colab\"/></a>"
      ]
    },
    {
      "cell_type": "code",
      "execution_count": 3,
      "metadata": {
        "colab": {
          "base_uri": "https://localhost:8080/"
        },
        "id": "g0t-pzVPvos2",
        "outputId": "93572140-7065-4675-acc6-3b1128444dde"
      },
      "outputs": [
        {
          "output_type": "stream",
          "name": "stdout",
          "text": [
            "1. Добавить контакт\n",
            "2. Удалить контакт\n",
            "3. Показать все контакты\n",
            "4. Изменить номер\n",
            "5. Выход\n",
            "\n",
            "Выберите категорию: 1\n",
            "Введите имя: фыв\n",
            "Введите телефон: 89285823675\n",
            "1. Добавить контакт\n",
            "2. Удалить контакт\n",
            "3. Показать все контакты\n",
            "4. Изменить номер\n",
            "5. Выход\n",
            "\n",
            "Выберите категорию: 1\n",
            "Введите имя: выф\n",
            "Введите телефон: 9285823434\n",
            "1. Добавить контакт\n",
            "2. Удалить контакт\n",
            "3. Показать все контакты\n",
            "4. Изменить номер\n",
            "5. Выход\n",
            "\n",
            "Выберите категорию: \n",
            "Некорректный выбор, попробуйте снова.\n",
            "1. Добавить контакт\n",
            "2. Удалить контакт\n",
            "3. Показать все контакты\n",
            "4. Изменить номер\n",
            "5. Выход\n",
            "\n",
            "Выберите категорию: 3\n",
            "Фыв: +79285823675\n",
            "Выф: +79285823434\n",
            "1. Добавить контакт\n",
            "2. Удалить контакт\n",
            "3. Показать все контакты\n",
            "4. Изменить номер\n",
            "5. Выход\n",
            "\n",
            "Выберите категорию: 5\n",
            "Выход из программы...\n"
          ]
        }
      ],
      "source": [
        "def update_contact(contacts: dict, contact_name: str, phone_number: str) -> dict:\n",
        "    contacts = contacts.copy()\n",
        "    contacts[format_name(contact_name)] = format_phone(phone_number)\n",
        "    return contacts\n",
        "\n",
        "def remove_contact(contacts: dict, contact_name: str) -> dict:\n",
        "    contacts = contacts.copy()\n",
        "    contacts.pop(format_name(contact_name), None)\n",
        "    return contacts\n",
        "\n",
        "def show_all_contacts(contacts: dict) -> None:\n",
        "    if not contacts:\n",
        "        print(\"Контактов нет\")\n",
        "    else:\n",
        "        for name, phone in contacts.items():\n",
        "            print(f\"{name}: {phone}\")\n",
        "\n",
        "def format_name(name: str) -> str:\n",
        "    return ' '.join([word.capitalize() for word in name.split()])\n",
        "\n",
        "def format_phone(number: str) -> str:\n",
        "    if len(number) == 11 and number.startswith('8'):\n",
        "        return '+7' + number[1:]\n",
        "    elif len(number) == 10:\n",
        "        return '+7' + number\n",
        "    else:\n",
        "        return \"Invalid\"\n",
        "\n",
        "def main():\n",
        "    menu_options = [\n",
        "        \"1. Добавить контакт\",\n",
        "        \"2. Удалить контакт\",\n",
        "        \"3. Показать все контакты\",\n",
        "        \"4. Изменить номер\",\n",
        "        \"5. Выход\"\n",
        "    ]\n",
        "\n",
        "    contacts = {}\n",
        "    while True:\n",
        "        print(\"\\n\".join(menu_options))\n",
        "        selection = input(\"\\nВыберите категорию: \")\n",
        "\n",
        "        if selection.isdigit() and int(selection) in range(1, 6):\n",
        "            selection = int(selection)\n",
        "            if selection == 5:\n",
        "                print(\"Выход из программы...\")\n",
        "                break\n",
        "\n",
        "            if selection == 1:\n",
        "                contacts = update_contact(contacts, input(\"Введите имя: \"), input(\"Введите телефон: \"))\n",
        "            elif selection == 2:\n",
        "                contacts = remove_contact(contacts, input(\"Введите имя: \"))\n",
        "            elif selection == 3:\n",
        "                show_all_contacts(contacts)\n",
        "            elif selection == 4:\n",
        "                contacts = update_contact(contacts, input(\"Введите имя: \"), input(\"Введите телефон: \"))\n",
        "        else:\n",
        "            print(\"Некорректный выбор, попробуйте снова.\")\n",
        "\n",
        "if __name__ == \"__main__\":\n",
        "    main()\n",
        "3"
      ]
    },
    {
      "cell_type": "code",
      "source": [],
      "metadata": {
        "id": "0J2OuH2Vxekt"
      },
      "execution_count": null,
      "outputs": []
    }
  ]
}