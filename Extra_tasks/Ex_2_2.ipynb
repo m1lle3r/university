{
  "nbformat": 4,
  "nbformat_minor": 0,
  "metadata": {
    "colab": {
      "provenance": [],
      "include_colab_link": true
    },
    "kernelspec": {
      "name": "python3",
      "display_name": "Python 3"
    },
    "language_info": {
      "name": "python"
    }
  },
  "cells": [
    {
      "cell_type": "markdown",
      "metadata": {
        "id": "view-in-github",
        "colab_type": "text"
      },
      "source": [
        "<a href=\"https://colab.research.google.com/github/m1lle3r/university/blob/main/Extra_tasks/Ex_2_2.ipynb\" target=\"_parent\"><img src=\"https://colab.research.google.com/assets/colab-badge.svg\" alt=\"Open In Colab\"/></a>"
      ]
    },
    {
      "cell_type": "markdown",
      "source": [
        "# **Дополнительное задание №2.2. Замыкания. Декораторы. Итераторы. Генераторы**"
      ],
      "metadata": {
        "id": "AFKOdzjAKWYc"
      }
    },
    {
      "cell_type": "markdown",
      "source": [
        "**БАЗА:**\n",
        "\n",
        "- **Замыкания** позволяют создавать функции с сохраняющимся состоянием. Это полезно для создания фабричных функций и функций с настраиваемым поведением.\n",
        "- **Декораторы** позволяют модифицировать или расширять поведение функций без изменения их исходного кода."
      ],
      "metadata": {
        "id": "nBwTqfsSyaGg"
      }
    },
    {
      "cell_type": "markdown",
      "source": [
        "---"
      ],
      "metadata": {
        "id": "2VnR8e3twGfD"
      }
    },
    {
      "cell_type": "markdown",
      "source": [
        "## **I. Замыкания и декораторы**"
      ],
      "metadata": {
        "id": "_ZPLUks08b1-"
      }
    },
    {
      "cell_type": "markdown",
      "metadata": {
        "id": "eVsLMeozyshu"
      },
      "source": [
        "### **Пункт №1**\n",
        "\n",
        "Напишите две функции создания списка из чётных чисел от 0 до N (N – аргумент функции): \\([0, 2, 4, ..., N]\\).\n",
        "\n",
        "- **Первая функция** должна использовать метод `append` для добавления элементов в список.\n",
        "- **Вторая функция** должна использовать **генератор списков** (list comprehensions) для создания списка.\n",
        "\n",
        "После этого, через **декоратор**, определите время работы этих функций."
      ]
    },
    {
      "cell_type": "code",
      "source": [
        "# Ваш код\n",
        "import time\n",
        "\n",
        "def measure_time(func):\n",
        "    def wrapper(*args):\n",
        "        start_time = time.time()\n",
        "        result = func(*args)\n",
        "        print(f'Время выполнения {time.time() - start_time}')\n",
        "        return result\n",
        "    return wrapper\n",
        "\n",
        "@measure_time\n",
        "def list_comprehension(N: int) -> list:\n",
        "    return [number for number in range(0, N, 2)]\n",
        "\n",
        "@measure_time\n",
        "def create_list(N: int) -> list:\n",
        "    even_numbers = []\n",
        "    for number in range(0, N, 2):\n",
        "        even_numbers.append(number)\n",
        "    return even_numbers\n",
        "\n",
        "print(create_list(10))\n",
        "print(list_comprehension(10))"
      ],
      "metadata": {
        "id": "04AwDHUyZe6F",
        "colab": {
          "base_uri": "https://localhost:8080/"
        },
        "outputId": "5bc81cf1-8bd3-4de5-dfef-b5c2003f9324"
      },
      "execution_count": null,
      "outputs": [
        {
          "output_type": "stream",
          "name": "stdout",
          "text": [
            "Время выполнения 3.814697265625e-06\n",
            "[0, 2, 4, 6, 8]\n",
            "Время выполнения 5.245208740234375e-06\n",
            "[0, 2, 4, 6, 8]\n"
          ]
        }
      ]
    },
    {
      "cell_type": "markdown",
      "source": [
        "---"
      ],
      "metadata": {
        "id": "_0Jy4QhEwGDd"
      }
    },
    {
      "cell_type": "markdown",
      "source": [
        "### **Пункт №2**\n",
        "\n",
        "Напишите **декоратор** для кэширования результатов работы функции, вычисляющей значение n-го числа [**ряда Фибоначчи**](https://ru.wikipedia.org/wiki/Числа_Фибоначчи).\n",
        "\n",
        "То есть, при повторном вызове функции через декоратор уже имеющийся результат должен браться из кэша, а не вычисляться заново.\n",
        "\n",
        "**Например:**\n",
        "\n",
        "- При значении параметра `n = 5`, должна кэшироваться последовательность \\([0, 1, 1, 2, 3, 5]\\).\n",
        "- Вызывая после этого целевую функцию через декоратор ещё раз с `n = 3`, результат \\([0, 1, 1, 2]\\) должен браться из кэша.\n",
        "- Если последующее значение `n` больше предыдущего, например `n = 10`, вычисление должно продолжаться, начиная с закэшированной последовательности.\n",
        "\n",
        "*Подсказка: используйте **замыкание** для хранения кэша внутри декоратора.*\n"
      ],
      "metadata": {
        "id": "DfDtOSmDl7ic"
      }
    },
    {
      "cell_type": "code",
      "source": [
        "def fibonacci(n: int) -> int:\n",
        "    if n in [1, 2]:\n",
        "        return 1\n",
        "    return fibonacci(n - 1) + fibonacci(n - 2)\n",
        "\n",
        "def index_of_fibonacci(value: int) -> int:\n",
        "    index = 0\n",
        "    while fibonacci(index) != value:\n",
        "        index += 1\n",
        "    return index\n",
        "\n",
        "def memoize(func):\n",
        "    cache = [None] * 100\n",
        "\n",
        "    def wrapper(n: int):\n",
        "        if n < 1:\n",
        "            return None\n",
        "        if cache[n] is not None:\n",
        "            return cache[n]\n",
        "\n",
        "        cache[n] = func(n)\n",
        "        return cache[n]\n",
        "\n",
        "    return wrapper\n",
        "\n",
        "@memoize\n",
        "def fibonacci_with_cache(n: int) -> int:\n",
        "    if n in [1, 2]:\n",
        "        return 1\n",
        "    return fibonacci_with_cache(n - 1) + fibonacci_with_cache(n - 2)\n",
        "\n",
        "print(fibonacci_with_cache(1))\n",
        "print(fibonacci_with_cache(10))"
      ],
      "metadata": {
        "id": "CtbbsIBsZfHB",
        "colab": {
          "base_uri": "https://localhost:8080/"
        },
        "outputId": "b5a37f6a-4da5-411a-d3d7-29a28894239f"
      },
      "execution_count": null,
      "outputs": [
        {
          "output_type": "stream",
          "name": "stdout",
          "text": [
            "1\n",
            "55\n"
          ]
        }
      ]
    },
    {
      "cell_type": "markdown",
      "source": [
        "---"
      ],
      "metadata": {
        "id": "CIiq8lr7wFkS"
      }
    },
    {
      "cell_type": "markdown",
      "source": [
        "### **Пункт №3**\n",
        "\n",
        "Примените к функции из задания №2 сразу **два декоратора**:\n",
        "\n",
        "1. **Декоратор**, определяющий время выполнения функции.\n",
        "2. **Кэширующий декоратор** (из задания №2).\n",
        "\n",
        "Сравните время работы функции с использованием кэширования и без него.\n"
      ],
      "metadata": {
        "id": "zY5zVHuifDve"
      }
    },
    {
      "cell_type": "code",
      "source": [
        "import time\n",
        "\n",
        "def fibonacci(n: int) -> int:\n",
        "    if n in [1, 2]:\n",
        "        return 1\n",
        "    a, b = 1, 1\n",
        "    for _ in range(3, n + 1):\n",
        "        a, b = b, a + b\n",
        "    return b\n",
        "\n",
        "def index_of_fibonacci(value: int) -> int:\n",
        "    index = 1\n",
        "    while True:\n",
        "        fib_value = fibonacci(index)\n",
        "        if fib_value == value:\n",
        "            return index\n",
        "        if fib_value > value:\n",
        "            return -1\n",
        "        index += 1\n",
        "\n",
        "def memoize(func):\n",
        "    cache = {}\n",
        "\n",
        "    def wrapper(n: int):\n",
        "        if n < 1:\n",
        "            return None\n",
        "        if n in cache:\n",
        "            return cache[n]\n",
        "        cache[n] = func(n)\n",
        "        return cache[n]\n",
        "\n",
        "    return wrapper\n",
        "\n",
        "def measure_time(func):\n",
        "    def wrapper(*args, **kwargs):\n",
        "        start_time = time.time()\n",
        "        result = func(*args, **kwargs)\n",
        "        print(f'Время выполнения: {time.time() - start_time:.6f} секунд')\n",
        "        return result\n",
        "    return wrapper\n",
        "\n",
        "@memoize\n",
        "@measure_time\n",
        "def fibonacci_with_cache(n: int) -> int:\n",
        "    if n in [1, 2]:\n",
        "        return 1\n",
        "    return fibonacci_with_cache(n - 1) + fibonacci_with_cache(n - 2)\n",
        "\n",
        "@measure_time\n",
        "def fibonacci_without_cache(n: int) -> int:\n",
        "    if n in [1, 2]:\n",
        "        return 1\n",
        "    a, b = 1, 1\n",
        "    for _ in range(3, n + 1):\n",
        "        a, b = b, a + b\n",
        "    return b\n",
        "\n",
        "print(\"Без кэширования:\")\n",
        "print(fibonacci_without_cache(30))\n",
        "\n",
        "print(\"\\nС кэшированием:\")\n",
        "print(fibonacci_with_cache(30))"
      ],
      "metadata": {
        "id": "dXuu8LJgg-0r",
        "colab": {
          "base_uri": "https://localhost:8080/"
        },
        "outputId": "2a3417c1-cde0-4fa7-9a4b-ece976998aea"
      },
      "execution_count": null,
      "outputs": [
        {
          "output_type": "stream",
          "name": "stdout",
          "text": [
            "Без кэширования:\n",
            "Время выполнения: 0.000010 секунд\n",
            "832040\n",
            "\n",
            "С кэшированием:\n",
            "Время выполнения: 0.000002 секунд\n",
            "Время выполнения: 0.000001 секунд\n",
            "Время выполнения: 0.000301 секунд\n",
            "Время выполнения: 0.000343 секунд\n",
            "Время выполнения: 0.000368 секунд\n",
            "Время выполнения: 0.000386 секунд\n",
            "Время выполнения: 0.000416 секунд\n",
            "Время выполнения: 0.000466 секунд\n",
            "Время выполнения: 0.000494 секунд\n",
            "Время выполнения: 0.006574 секунд\n",
            "Время выполнения: 0.006618 секунд\n",
            "Время выполнения: 0.006650 секунд\n",
            "Время выполнения: 0.006679 секунд\n",
            "Время выполнения: 0.006714 секунд\n",
            "Время выполнения: 0.006747 секунд\n",
            "Время выполнения: 0.009172 секунд\n",
            "Время выполнения: 0.009215 секунд\n",
            "Время выполнения: 0.009243 секунд\n",
            "Время выполнения: 0.009266 секунд\n",
            "Время выполнения: 0.009294 секунд\n",
            "Время выполнения: 0.009319 секунд\n",
            "Время выполнения: 0.009465 секунд\n",
            "Время выполнения: 0.009628 секунд\n",
            "Время выполнения: 0.009660 секунд\n",
            "Время выполнения: 0.009688 секунд\n",
            "Время выполнения: 0.014532 секунд\n",
            "Время выполнения: 0.014786 секунд\n",
            "Время выполнения: 0.014920 секунд\n",
            "Время выполнения: 0.014961 секунд\n",
            "Время выполнения: 0.014993 секунд\n",
            "832040\n"
          ]
        }
      ]
    },
    {
      "cell_type": "markdown",
      "source": [
        "---"
      ],
      "metadata": {
        "id": "fsSegPodwEwZ"
      }
    },
    {
      "cell_type": "markdown",
      "source": [
        "### **Пункт №4**\n",
        "\n",
        "Создайте функцию **make_multiplier(n)**, которая принимает число **n** и возвращает функцию, умножающую переданное ей число на **n**.\n",
        "\n",
        "**Пример использования:**\n",
        "\n",
        "```python\n",
        "def make_multiplier(n):\n",
        "    # Ваш код\n",
        "\n",
        "times3 = make_multiplier(3)\n",
        "print(times3(5))  # Вывод: 15\n",
        "```"
      ],
      "metadata": {
        "id": "Ap04UA6ZtoK1"
      }
    },
    {
      "cell_type": "code",
      "source": [
        "# Ваш код\n",
        "def make_multiplier(n):\n",
        "    def inner(value):\n",
        "      return n*value\n",
        "    return inner\n",
        "\n",
        "multiplier = make_multiplier(3)\n",
        "print(multiplier(5))"
      ],
      "metadata": {
        "id": "HasdSjestowl",
        "colab": {
          "base_uri": "https://localhost:8080/"
        },
        "outputId": "2c1b97b5-2db2-4f05-f6fc-7effb517d0b5"
      },
      "execution_count": null,
      "outputs": [
        {
          "output_type": "stream",
          "name": "stdout",
          "text": [
            "15\n"
          ]
        }
      ]
    },
    {
      "cell_type": "markdown",
      "source": [
        "---"
      ],
      "metadata": {
        "id": "MIPkER_LwD_0"
      }
    },
    {
      "cell_type": "markdown",
      "source": [
        "### **Пункт №5**\n",
        "\n",
        "Реализуйте функцию с замыканием, которая настраивает округление чисел до заданного количества знаков после запятой.\n",
        "\n",
        "**Пример:**\n",
        "\n",
        "```python\n",
        "def rounder(n):\n",
        "    # Ваш код\n",
        "\n",
        "round_to_2 = rounder(2)\n",
        "print(round_to_2(3.14159))  # Вывод: 3.14\n",
        "```\n"
      ],
      "metadata": {
        "id": "mTwh5dIqto8N"
      }
    },
    {
      "cell_type": "code",
      "source": [
        "# Ваш код\n",
        "def rounder(n):\n",
        "  def inner(value):\n",
        "        return round(value, n)\n",
        "  return inner\n",
        "\n",
        "round_to_2 = rounder(2)\n",
        "print(round_to_2(3.14159))"
      ],
      "metadata": {
        "id": "zjlE-viztpDo",
        "colab": {
          "base_uri": "https://localhost:8080/"
        },
        "outputId": "557c02ec-11c2-4a52-eca7-0dea9cbae51c"
      },
      "execution_count": null,
      "outputs": [
        {
          "output_type": "stream",
          "name": "stdout",
          "text": [
            "3.14\n"
          ]
        }
      ]
    },
    {
      "cell_type": "markdown",
      "source": [
        "---"
      ],
      "metadata": {
        "id": "6u2MeXBiwAyf"
      }
    },
    {
      "cell_type": "markdown",
      "source": [
        "### **Пункт №6**\n",
        "\n",
        "Напишите **декоратор**, который измеряет время исполнения функции и выводит его на экран, только если время превышает определённый порог.\n",
        "\n",
        "**Пример:**\n",
        "\n",
        "```python\n",
        "@time_threshold(threshold=0.5)\n",
        "def long_running_function():\n",
        "    # Долгий код\n",
        "\n",
        "long_running_function()\n",
        "# Выводится время выполнения только если оно больше 0.5 секунд\n",
        "```"
      ],
      "metadata": {
        "id": "i5A4zQl5tpKJ"
      }
    },
    {
      "cell_type": "code",
      "source": [
        "# Ваш код\n",
        "import time\n",
        "\n",
        "def execution_threshold(threshold):\n",
        "    def decorator(func):\n",
        "        def wrapper(*args, **kwargs):\n",
        "            start_time = time.time()\n",
        "            func(*args, **kwargs)\n",
        "            if time.time() - start_time > threshold:\n",
        "                print(f'Время выполнения {time.time() - start_time}')\n",
        "        return wrapper\n",
        "    return decorator\n",
        "\n",
        "@execution_threshold(threshold=0.5)\n",
        "def long_running_task():\n",
        "    result = []\n",
        "    for num in range(10**8):\n",
        "        result.append(num * 0.5)\n",
        "\n",
        "long_running_task()"
      ],
      "metadata": {
        "id": "LMGleXaetpP6",
        "colab": {
          "base_uri": "https://localhost:8080/"
        },
        "outputId": "6ea19494-a3ea-40e3-d1d8-65754e968f79"
      },
      "execution_count": null,
      "outputs": [
        {
          "output_type": "stream",
          "name": "stdout",
          "text": [
            "Время выполнения 18.51417899131775\n"
          ]
        }
      ]
    },
    {
      "cell_type": "markdown",
      "source": [
        "---"
      ],
      "metadata": {
        "id": "Ag0rUJm-wIK1"
      }
    },
    {
      "cell_type": "markdown",
      "source": [
        "## **II. Итераторы и генераторы**"
      ],
      "metadata": {
        "id": "tu5ZanR_8j_R"
      }
    },
    {
      "cell_type": "markdown",
      "source": [
        "---\n",
        "\n",
        "### **Пункт №1. Генератор строк фиксированной длины**\n",
        "\n",
        "Напишите генератор `string_generator(char, times)`, который генерирует строки, состоящие из символа `char`, повторенного от 1 до `times` раз.\n",
        "\n",
        "```python\n",
        "# Пример использования:\n",
        "for s in string_generator('*', 5):\n",
        "    print(s)\n",
        "# Вывод:\n",
        "# *\n",
        "# **\n",
        "# ***\n",
        "# ****\n",
        "# *****\n",
        "```\n",
        "\n"
      ],
      "metadata": {
        "id": "7KQ8huR-8C_4"
      }
    },
    {
      "cell_type": "markdown",
      "source": [
        "---"
      ],
      "metadata": {
        "id": "ktfqCVPY-Mlx"
      }
    },
    {
      "cell_type": "code",
      "source": [
        "# Ваш код\n",
        "def custom_string_generator(base_string: str = '', times: int = 1):\n",
        "    index = 0\n",
        "    while index < times:\n",
        "        yield base_string\n",
        "        base_string += '*'\n",
        "        index += 1\n",
        "\n",
        "for item in custom_string_generator('*', 5):\n",
        "    print(item)"
      ],
      "metadata": {
        "id": "uvI-Ebqu98bW",
        "colab": {
          "base_uri": "https://localhost:8080/"
        },
        "outputId": "22dec2cb-21ff-4581-8ce2-2b941e983d68"
      },
      "execution_count": null,
      "outputs": [
        {
          "output_type": "stream",
          "name": "stdout",
          "text": [
            "*\n",
            "**\n",
            "***\n",
            "****\n",
            "*****\n"
          ]
        }
      ]
    },
    {
      "cell_type": "markdown",
      "source": [
        "---\n",
        "\n",
        "### **Пункт №2. Генератор бесконечной последовательности**\n",
        "\n",
        "Создайте бесконечный генератор `infinite_sequence()`, который с каждым вызовом возвращает следующее число, начиная с 1.\n",
        "\n",
        "```python\n",
        "# Пример использования:\n",
        "gen = infinite_sequence()\n",
        "for _ in range(5):\n",
        "    print(next(gen))\n",
        "# Вывод:\n",
        "# 1\n",
        "# 2\n",
        "# 3\n",
        "# 4\n",
        "# 5\n",
        "```\n",
        "\n",
        "---"
      ],
      "metadata": {
        "id": "zDtiD8Rl9Oqu"
      }
    },
    {
      "cell_type": "code",
      "source": [
        "# Ваш код\n",
        "def infinite_sequence():\n",
        "    number = 1\n",
        "    while True:\n",
        "        yield number\n",
        "        number += 1\n",
        "\n",
        "gen = infinite_sequence()\n",
        "for _ in range(5):\n",
        "    print(next(gen))"
      ],
      "metadata": {
        "id": "Yotj0YMK-Avy",
        "colab": {
          "base_uri": "https://localhost:8080/"
        },
        "outputId": "9529a91c-625f-4eea-9f69-c8f90c5594e6"
      },
      "execution_count": null,
      "outputs": [
        {
          "output_type": "stream",
          "name": "stdout",
          "text": [
            "1\n",
            "2\n",
            "3\n",
            "4\n",
            "5\n"
          ]
        }
      ]
    },
    {
      "cell_type": "markdown",
      "source": [
        "---\n",
        "\n",
        "### **Пункт №3. Генератор комбинированных списков**\n",
        "\n",
        "Создайте генератор `combined_lists(lst1, lst2)`, который попеременно возвращает элементы из `lst1` и `lst2`. Если длины списков неравны, генератор должен остановиться при исчерпании более короткого списка.\n",
        "\n",
        "```python\n",
        "# Пример использования:\n",
        "for item in combined_lists([1, 2, 3], ['a', 'b', 'c', 'd']):\n",
        "    print(item)\n",
        "# Вывод:\n",
        "# 1\n",
        "# 'a'\n",
        "# 2\n",
        "# 'b'\n",
        "# 3\n",
        "# 'c'\n",
        "```"
      ],
      "metadata": {
        "id": "rJQEC1n19KHE"
      }
    },
    {
      "cell_type": "markdown",
      "source": [
        "---"
      ],
      "metadata": {
        "id": "1h8fsmju-LQh"
      }
    },
    {
      "cell_type": "code",
      "source": [
        "# Ваш код\n",
        "def combined_lists(lst1, lst2):\n",
        "    min_length = min(len(lst1), len(lst2))\n",
        "    for i in range(min_length):\n",
        "        yield lst1[i]\n",
        "        yield lst2[i]\n",
        "\n",
        "for item in combined_lists([1, 2, 3], ['a', 'b', 'c', 'd']):\n",
        "    print(item)"
      ],
      "metadata": {
        "id": "_kcrlmgU-Bmz",
        "colab": {
          "base_uri": "https://localhost:8080/"
        },
        "outputId": "61857c8a-5a58-4a31-e174-a4812eacb684"
      },
      "execution_count": null,
      "outputs": [
        {
          "output_type": "stream",
          "name": "stdout",
          "text": [
            "1\n",
            "a\n",
            "2\n",
            "b\n",
            "3\n",
            "c\n"
          ]
        }
      ]
    },
    {
      "cell_type": "markdown",
      "source": [
        "---\n",
        "\n",
        "### **Пункт №4. Генератор перевернутой строки**\n",
        "\n",
        "Напишите генератор `reverse_string(s)`, который при каждом вызове возвращает следующий символ строки `s` в обратном порядке.\n",
        "\n",
        "```python\n",
        "# Пример использования:\n",
        "for char in reverse_string('hello'):\n",
        "    print(char)\n",
        "# Вывод:\n",
        "# o\n",
        "# l\n",
        "# l\n",
        "# e\n",
        "# h\n",
        "```"
      ],
      "metadata": {
        "id": "CEXaNzJX9B1D"
      }
    },
    {
      "cell_type": "markdown",
      "source": [
        "---"
      ],
      "metadata": {
        "id": "L9WQ5Jpq-JaO"
      }
    },
    {
      "cell_type": "code",
      "source": [
        "# Ваш код\n",
        "def reverse_string(s):\n",
        "    for char in reversed(s):\n",
        "        yield char\n",
        "\n",
        "for char in reverse_string('hello'):\n",
        "    print(char)"
      ],
      "metadata": {
        "id": "5w9xT0eR-CBf",
        "colab": {
          "base_uri": "https://localhost:8080/"
        },
        "outputId": "9f5aa988-b1bf-422b-9fb6-88f073a815e4"
      },
      "execution_count": null,
      "outputs": [
        {
          "output_type": "stream",
          "name": "stdout",
          "text": [
            "o\n",
            "l\n",
            "l\n",
            "e\n",
            "h\n"
          ]
        }
      ]
    },
    {
      "cell_type": "markdown",
      "source": [
        "---\n",
        "\n",
        "### **Пункт №5. Генератор степеней двойки**\n",
        "\n",
        "Создайте генератор `powers_of_two(n)`, который возвращает степени двойки от 2^0 до 2^n.\n",
        "\n",
        "```python\n",
        "# Пример использования:\n",
        "for num in powers_of_two(5):\n",
        "    print(num)\n",
        "# Вывод:\n",
        "# 1  # 2^0\n",
        "# 2  # 2^1\n",
        "# 4  # 2^2\n",
        "# 8  # 2^3\n",
        "# 16 # 2^4\n",
        "# 32 # 2^5\n",
        "```\n",
        "\n",
        "---"
      ],
      "metadata": {
        "id": "GNykcs8D8-Je"
      }
    },
    {
      "cell_type": "code",
      "source": [
        "# Ваш код\n",
        "def powers_of_two(n):\n",
        "    for i in range(n + 1):\n",
        "        yield 2 ** i\n",
        "\n",
        "for num in powers_of_two(5):\n",
        "    print(num)"
      ],
      "metadata": {
        "id": "LjNW3m-y-CXj",
        "colab": {
          "base_uri": "https://localhost:8080/"
        },
        "outputId": "1e86936f-570f-4fe6-9948-30e73815993c"
      },
      "execution_count": null,
      "outputs": [
        {
          "output_type": "stream",
          "name": "stdout",
          "text": [
            "1\n",
            "2\n",
            "4\n",
            "8\n",
            "16\n",
            "32\n"
          ]
        }
      ]
    },
    {
      "cell_type": "markdown",
      "source": [
        "---"
      ],
      "metadata": {
        "id": "OU71icWn-Ggg"
      }
    },
    {
      "cell_type": "markdown",
      "source": [
        "### **Пункт №6. Генератор чисел из строки**\n",
        "\n",
        "Напишите генератор `number_extractor(s)`, который извлекает числа из заданной строки `s` и возвращает их как целые числа.\n",
        "\n",
        "```python\n",
        "# Пример использования:\n",
        "for num in number_extractor('abc123def45gh6'):\n",
        "    print(num)\n",
        "# Вывод:\n",
        "# 123\n",
        "# 45\n",
        "# 6\n",
        "```"
      ],
      "metadata": {
        "id": "w5gcNZCM829V"
      }
    },
    {
      "cell_type": "markdown",
      "source": [
        "---"
      ],
      "metadata": {
        "id": "oJt2kxt8-FUP"
      }
    },
    {
      "cell_type": "code",
      "source": [
        "# Ваш код\n",
        "def number_extractor(s):\n",
        "    number = ''\n",
        "    for char in s:\n",
        "        if char.isdigit():\n",
        "            number += char\n",
        "        elif number:\n",
        "            yield int(number)\n",
        "            number = ''\n",
        "    if number:\n",
        "        yield int(number)\n",
        "\n",
        "for num in number_extractor('abc123def45gh6'):\n",
        "    print(num)"
      ],
      "metadata": {
        "id": "zDYVvuBX-C9M",
        "colab": {
          "base_uri": "https://localhost:8080/"
        },
        "outputId": "ec277c1a-30a5-4514-9e51-ea32fbbb3f3e"
      },
      "execution_count": null,
      "outputs": [
        {
          "output_type": "stream",
          "name": "stdout",
          "text": [
            "123\n",
            "45\n",
            "6\n"
          ]
        }
      ]
    },
    {
      "cell_type": "markdown",
      "source": [
        "---"
      ],
      "metadata": {
        "id": "h6ztzyUn-D5n"
      }
    }
  ]
}