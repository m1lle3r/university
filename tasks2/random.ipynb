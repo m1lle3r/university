{
  "nbformat": 4,
  "nbformat_minor": 0,
  "metadata": {
    "colab": {
      "provenance": [],
      "authorship_tag": "ABX9TyPeK0HuJ5RwSHnxQAtiMI5f",
      "include_colab_link": true
    },
    "kernelspec": {
      "name": "python3",
      "display_name": "Python 3"
    },
    "language_info": {
      "name": "python"
    }
  },
  "cells": [
    {
      "cell_type": "markdown",
      "metadata": {
        "id": "view-in-github",
        "colab_type": "text"
      },
      "source": [
        "<a href=\"https://colab.research.google.com/github/m1lle3r/university/blob/main/tasks2/random.ipynb\" target=\"_parent\"><img src=\"https://colab.research.google.com/assets/colab-badge.svg\" alt=\"Open In Colab\"/></a>"
      ]
    },
    {
      "cell_type": "code",
      "execution_count": 3,
      "metadata": {
        "colab": {
          "base_uri": "https://localhost:8080/"
        },
        "id": "wn8cRxgvIHUp",
        "outputId": "5243b667-4563-42aa-c66c-fc62d6c0513d"
      },
      "outputs": [
        {
          "output_type": "stream",
          "name": "stdout",
          "text": [
            "введите число:\n",
            "57\n",
            "ваше число больше 17\n",
            "рлро\n",
            "вы ввели не число\n",
            "лрорл\n",
            "вы ввели не число\n",
            "34\n",
            "ваше число больше 17\n",
            "17\n",
            "вы победили за 3 попыток\n"
          ]
        }
      ],
      "source": [
        "import random\n",
        "rn = random.randrange(1, 100)\n",
        "cnt = 1\n",
        "print(\"введите число:\")\n",
        "i = input()\n",
        "f = True\n",
        "while f == True:\n",
        "  if i.isdigit():\n",
        "    i = int(i)\n",
        "    if i > rn:\n",
        "      print(\"ваше число больше\")\n",
        "      i = input()\n",
        "      cnt +=1\n",
        "    elif i < rn:\n",
        "      print(\"ваше число меньше\")\n",
        "      i = input()\n",
        "      cnt +=1\n",
        "    elif i == rn:\n",
        "      print(f'вы победили за {cnt} попыток')\n",
        "      f = False\n",
        "  elif i.lower() == \"выход\":\n",
        "    print(\"конец игры\")\n",
        "    f = False\n",
        "  else:\n",
        "    print(\"вы ввели не число\")\n",
        "    i = input()\n",
        "\n"
      ]
    },
    {
      "cell_type": "code",
      "source": [],
      "metadata": {
        "id": "jepG_1WLTh4X"
      },
      "execution_count": null,
      "outputs": []
    }
  ]
}